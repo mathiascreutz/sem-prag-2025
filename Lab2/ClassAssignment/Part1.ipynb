{
 "cells": [
  {
   "cell_type": "markdown",
   "metadata": {
    "hide_input": false
   },
   "source": [
    "# Semantics and Pragmatics, KIK-LG103\n",
    "\n",
    "## Lab session 2, Part 1\n",
    "\n",
    "---\n",
    "\n",
    "<font color=\"red\">**This page contains interactive graphics. It only works properly if you change to the \"classic notebook\" user interface. Start by selecting *Launch Classic Notebook* from the *Help* menu.**</font>\n",
    "\n",
    "---\n",
    "\n",
    "In this lab session we will work on distributional semantics. Our main focus is on trying to build up understanding and intuition of the concept of *meaning as embedding in a vector space*.\n",
    "\n",
    "Let us first get more acquainted with what vectors are.\n",
    "\n",
    "First of all, run the cell below to set a variable that controls how the figures are displayed. Then also import the library `plot_utils` for plotting our embeddings."
   ]
  },
  {
   "cell_type": "code",
   "execution_count": null,
   "metadata": {},
   "outputs": [],
   "source": [
    "%matplotlib notebook\n",
    "import sys\n",
    "sys.path.append(\"../../../sem-prag-2025/src\")\n",
    "import plot_utils"
   ]
  },
  {
   "cell_type": "markdown",
   "metadata": {},
   "source": [
    "### Section 1.1: Two-dimensional vectors\n",
    "\n",
    "---\n",
    "\n",
    "Let us first visualize vectors in two dimensions. All our vectors start at the origin at the coordinate _x_ = 0, _y_ = 0. The end points of the vectors may be anywhere in the two-dimensional plane.\n",
    "\n",
    "In the code cell below you see how to plot four two-dimensional vectors and count the angles between them. As you can see, the angles are counted pairwise between all pairs of vectors. "
   ]
  },
  {
   "cell_type": "code",
   "execution_count": null,
   "metadata": {},
   "outputs": [],
   "source": [
    "# First define the end points of four different vectors\n",
    "vector_endpoints = [\n",
    "    (1, 2),    # ends at x = 1, y = 2\n",
    "    (-2, 1),   # ends at x = -2, y = 1\n",
    "    (5, 0),    # etc.\n",
    "    (3, -3)\n",
    "]\n",
    "\n",
    "# This command plots the vectors and counts the angles between the vectors\n",
    "plot_utils.plot_vectors_2d(vector_endpoints)"
   ]
  },
  {
   "cell_type": "markdown",
   "metadata": {},
   "source": [
    "**NOTE:** The figure that you plot should be dynamic; you should be able to zoom in and out etc. If the figure is static, run the cell at the top with the line `%matplotlib notebook` again. Then rerun the cell above and it should work.\n",
    "\n",
    "**NOTE 2:** If the figure is blank, this notebook was probably initialized too early (in the newer JupterLab user interface). Possible ways to fix this are:\n",
    "- You can try to restart the kernel (*Kernel* -> *Restart & Clear Output*).\n",
    "- That might not help. Then go back to the tab where you see the folders with files. There is an icon of a green book in front of the notebook pages that you have started. Select this one (Part1.ipynb) and choose *Shutdown*. Then restart the kernel as in the previous bullet point.\n",
    "- If that does not help either, kill your entire session on the start page (*My workspaces*) and try again.\n",
    "\n",
    "---\n",
    "\n",
    "**Exercise 1.1.1** Now it is your turn to draw vectors. In the code cell below one vector is already given. You need to **add two vectors** in such a way that one of the added vectors is at an angle of 90 degrees with the given vector and the other added vector is at an angle of 180 degrees with the given vector.\n",
    "\n",
    "The lengths of your vectors do not matter, but make sure you get the angles right.\n",
    "\n",
    "---"
   ]
  },
  {
   "cell_type": "code",
   "execution_count": null,
   "metadata": {},
   "outputs": [],
   "source": [
    "vector_endpoints = [\n",
    "    (3, 1),    # This is the given vector: add two more,\n",
    "               # such that the angles are 90 degrees and 180 degrees\n",
    "]\n",
    "\n",
    "plot_utils.plot_vectors_2d(vector_endpoints)"
   ]
  },
  {
   "cell_type": "markdown",
   "metadata": {},
   "source": [
    "---\n",
    "\n",
    "**Exercise 1.1.2** In the code cell below three vectors are already given. You need to **add five more vectors** in such a way that every added vector is at an angle of 45 degrees to the previously added vector. If you do this correctly, you will see a figure that looks like a \"wheel\" or \"star\" of vectors.\n",
    "\n",
    "---"
   ]
  },
  {
   "cell_type": "code",
   "execution_count": null,
   "metadata": {},
   "outputs": [],
   "source": [
    "vector_endpoints = [\n",
    "    (7, 0),   # first vector\n",
    "    (5, 5),   # second vector at 45 degree angle with first vector\n",
    "    (0, 7),   # third vector at 45 degree angle with second vector\n",
    "              # add five more vectors\n",
    "]\n",
    "\n",
    "plot_utils.plot_vectors_2d(vector_endpoints)"
   ]
  },
  {
   "cell_type": "markdown",
   "metadata": {},
   "source": [
    "---\n",
    "\n",
    "**Exercise 1.1.3** In the code cell below **create three vectors**, such that two of the vectors are at an angle of 120 degrees with respect to each other and both of these two vectors are at an angle of 60 degrees to the third vector.\n",
    "\n",
    "If you do not manage to get the angles exactly correct, try to make them as close as possible to 60 and 120 degrees.\n",
    "\n",
    "---"
   ]
  },
  {
   "cell_type": "code",
   "execution_count": null,
   "metadata": {},
   "outputs": [],
   "source": [
    "vector_endpoints = [ # create three vectors here\n",
    "]\n",
    "\n",
    "plot_utils.plot_vectors_2d(vector_endpoints)"
   ]
  },
  {
   "cell_type": "markdown",
   "metadata": {},
   "source": [
    "### Section 1.2: Three-dimensional vectors\n",
    "\n",
    "---\n",
    "\n",
    "It is also possible to plot projections of three-dimensional vectors. All our three-dimensional vectors start at the origin (_x_ = 0, _y_ = 0, _z_ = 0) and they end somewhere in the three-dimensional space.\n",
    "\n",
    "When you plot three-dimensional vectors you can rotate the figure to view the vectors from many different angles.\n",
    "\n",
    "You can compute the angles between the vectors as in the case of two-dimensional vectors, but it is harder to \"see\" the angles correctly. Have a look at the figure below and interact with it!"
   ]
  },
  {
   "cell_type": "code",
   "execution_count": null,
   "metadata": {},
   "outputs": [],
   "source": [
    "vector_endpoints = [\n",
    "    (1, 0, 0),    # a vector parallel with the x-axis\n",
    "    (0, 1, 0),    # a vector parallel with the y-axis\n",
    "    (0, 0, 1)     # a vector parallel with the z-axis\n",
    "]\n",
    "\n",
    "plot_utils.plot_vectors_3d(vector_endpoints)"
   ]
  },
  {
   "cell_type": "markdown",
   "metadata": {},
   "source": [
    "---\n",
    "\n",
    "**Exercise 1.2.1** Into the code cell below, add **three more three-dimensional vectors** to the mix, such that the angles between any two pairs of vectors is 90 degrees or 180 degrees. You should not see any other angles.\n",
    "\n",
    "---"
   ]
  },
  {
   "cell_type": "code",
   "execution_count": null,
   "metadata": {},
   "outputs": [],
   "source": [
    "vector_endpoints = [\n",
    "    (1, 0, 0),    \n",
    "    (0, 1, 0),    \n",
    "    (0, 0, 1),    # add 3 more vectors with angles 90 and 180 degrees\n",
    "]\n",
    "\n",
    "plot_utils.plot_vectors_3d(vector_endpoints)"
   ]
  },
  {
   "cell_type": "markdown",
   "metadata": {},
   "source": [
    "---\n",
    "\n",
    "**Exercise 1.2.2** Into the code cell below, add **four three-dimensional vectors**, such that each new vector points in a different direction, but all of the added vectors are at an angle of 45 degrees with the given vector.\n",
    "\n",
    "What are the angles between the four new vectors? They might be fairly \"round numbers\". Do you \"see\" why if you rotate the figure?\n",
    "\n",
    "---"
   ]
  },
  {
   "cell_type": "code",
   "execution_count": null,
   "metadata": {},
   "outputs": [],
   "source": [
    "vector_endpoints = [\n",
    "    (3, 0, 0),    # add 4 new vectors at an angle of 45 degrees to this one\n",
    "]\n",
    "\n",
    "plot_utils.plot_vectors_3d(vector_endpoints)"
   ]
  },
  {
   "cell_type": "markdown",
   "metadata": {},
   "source": [
    "When you are done here, you can move on to Part 2."
   ]
  }
 ],
 "metadata": {
  "kernelspec": {
   "display_name": "Python 3 (ipykernel)",
   "language": "python",
   "name": "python3"
  },
  "language_info": {
   "codemirror_mode": {
    "name": "ipython",
    "version": 3
   },
   "file_extension": ".py",
   "mimetype": "text/x-python",
   "name": "python",
   "nbconvert_exporter": "python",
   "pygments_lexer": "ipython3",
   "version": "3.10.6"
  }
 },
 "nbformat": 4,
 "nbformat_minor": 2
}
