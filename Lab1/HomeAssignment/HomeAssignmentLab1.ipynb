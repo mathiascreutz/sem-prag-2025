{
 "cells": [
  {
   "cell_type": "markdown",
   "metadata": {},
   "source": [
    "# Lab 1 home assignment: Semantics in programming languages: Sets and relations\n",
    "---\n",
    "\n",
    "This homework is split into two parts. The first part is a follow-up to the predicate logic and the sets and relations of the pet examples in the class assignment. The second part relates to working on some corpus data. \n",
    "\n",
    "While working on the assignment, it is a good idea to download the notebook from time to time, so that you do not lose your work, if something goes wrong.\n",
    "\n",
    "Remember that you can ask for help by the teachers. Discussions between student colleagues is allowed, but always implement your own solutions and do not copy your friend's answers. \n",
    "\n",
    "Have fun and good luck!\n",
    "\n",
    "## Task 1. Pets and food\n",
    "\n",
    "This first task (Pets and food) consists of six subtasks **a – f**. Each subtask is worth 1/2 of a point (= 0.5 points), and you can get up to 3 points for the task as a whole.\n",
    "\n",
    "In this task we return to our lovely pets, so we need to repeat some of the database of \"world knowledge\" that we have:"
   ]
  },
  {
   "cell_type": "code",
   "execution_count": null,
   "metadata": {},
   "outputs": [],
   "source": [
    "pets = { \"Nasse\", \"Petya\", \"Maija\", \"Michelangelo\", \"Kostya\", \"Mansikki\",\n",
    "         \"Anders\", \"Leonardo\", \"Rosa\", \"Monty\", \"Ronja\", \"Lady\", \"Mosya\",\n",
    "         \"Bella\", \"Donatello\", \"Eloveena\" }\n",
    "\n",
    "animals = { \"dog\", \"cat\", \"cow\", \"duck\", \"snake\", \"turtle\", \"pig\" }\n",
    "\n",
    "species_of_pets = { \"Nasse\": \"pig\", \"Petya\": \"dog\", \"Maija\": \"cat\",\n",
    "                    \"Michelangelo\": \"turtle\", \"Kostya\" : \"cat\", \"Mansikki\": \"cow\",\n",
    "                    \"Anders\": \"duck\", \"Leonardo\": \"turtle\", \"Rosa\" : \"cow\",\n",
    "                    \"Monty\" : \"snake\", \"Ronja\": \"dog\", \"Lady\": \"dog\",\n",
    "                    \"Mosya\": \"cat\", \"Bella\": \"dog\", \"Donatello\": \"turtle\",\n",
    "                    \"Eloveena\": \"cow\" }"
   ]
  },
  {
   "cell_type": "markdown",
   "metadata": {},
   "source": [
    "(Remember to hit Ctrl-Enter in every code cell, because otherwise Python will not assign the values to the variables, and your program will fail later on.)\n",
    "\n",
    "Now it is your turn to enter some more \"world knowledge\", namely the favorite foods of different animals. First, list the foods in a set variable, called `foods`. Then create relations from animal species to the foods in the dict variable `favorite_foods_of_animals`. So, if you add \"fish\" as one food, you might need to define that the favorite food of cats is fish.\n",
    "\n",
    "**1 a)**"
   ]
  },
  {
   "cell_type": "code",
   "execution_count": null,
   "metadata": {},
   "outputs": [],
   "source": [
    "# First list some foods here:\n",
    "#\n",
    "foods = { }\n",
    "\n",
    "# Then create a mapping (relation), from animal species (such as \"cat\")\n",
    "# to foods (such as \"fish\"). Pay attention that you use the correct type of\n",
    "# punctuation and brackets: it all matters to Python!\n",
    "#\n",
    "favorite_foods_of_animals = { }"
   ]
  },
  {
   "cell_type": "markdown",
   "metadata": {},
   "source": [
    "Next you want to brag about how knowledgeable you are about the food preferences of animals, so you need to write program code that accesses your \"database\" and prints for every animal species what food it likes.\n",
    "\n",
    "Note that you are not allowed to hard-code any answer such as writing `print(\"A cat likes fish\")`, but you need to make use of `for` loops and variables to have your program figure out the information from the database.\n",
    "\n",
    "**1 b)**"
   ]
  },
  {
   "cell_type": "code",
   "execution_count": null,
   "metadata": {},
   "outputs": [],
   "source": [
    "# Write Python code here that iterates over all animal species and prints\n",
    "# what foods they like, such as:\n",
    "# A cat likes fish\n",
    "# A dog likes ...\n",
    "# etc.\n"
   ]
  },
  {
   "cell_type": "markdown",
   "metadata": {},
   "source": [
    "To make the whole thing a bit more interesting, the next step is to have your program figure out not just what food some animal species in general likes, but what food all our pets prefer. So, you need to find out what the favorite foods of Nasse, Petya, Maija and the other pets are. For instance, since Maija is a cat, we can conclude that Maija likes fish (if fish is the favorite food of cats in your world).\n",
    "\n",
    "**1 c)**"
   ]
  },
  {
   "cell_type": "code",
   "execution_count": null,
   "metadata": {},
   "outputs": [],
   "source": [
    "# Write Python code here (using for loops and variables) that prints\n",
    "# for every pet what its favorite food is, such as:\n",
    "# Maija loves fish\n",
    "# Mansikki loves ...\n",
    "# etc.\n"
   ]
  },
  {
   "cell_type": "markdown",
   "metadata": {},
   "source": [
    "Next, you need to define how much food each animal species needs a day. Create a mapping from animal species to the amount of food in grams that they eat per day. For instance, a cat might need 230 grams of food a day:\n",
    "\n",
    "**1 d)**"
   ]
  },
  {
   "cell_type": "code",
   "execution_count": null,
   "metadata": {},
   "outputs": [],
   "source": [
    "# Define for each animal species (such as cat), how much food in grams it\n",
    "# needs to be fed a day:\n",
    "#\n",
    "daily_rations_for_animals = { }"
   ]
  },
  {
   "cell_type": "markdown",
   "metadata": {},
   "source": [
    "Assuming that each pet only eats its favorite food, print how much it eats of what food every day:\n",
    "\n",
    "**1 e)**"
   ]
  },
  {
   "cell_type": "code",
   "execution_count": null,
   "metadata": {},
   "outputs": [],
   "source": [
    "# Write code here that prints for each pet how much it eats of what food\n",
    "# every day, such as:\n",
    "# Maija eats 230 grams of fish every day.\n",
    "# Mansikki eats ... grams of ... every day.\n",
    "# Lady eats ... grams of ... every day.\n",
    "# etc.\n"
   ]
  },
  {
   "cell_type": "markdown",
   "metadata": {},
   "source": [
    "Finally, write Python code that calculates how much food you need a day to feed all our pets:\n",
    "\n",
    "**1 f)**"
   ]
  },
  {
   "cell_type": "code",
   "execution_count": null,
   "metadata": {},
   "outputs": [],
   "source": [
    "# Write code here that calculates one single number, which is \n",
    "# the weight of all food combined that is needed to feed all the\n",
    "# pets: Nasse, Petya, Maija, etc.\n",
    "\n",
    "# Then print the result:\n",
    "print(\"You need\", amount, \"grams of food every day to feed all the pets.\")"
   ]
  },
  {
   "cell_type": "markdown",
   "metadata": {},
   "source": [
    "---\n",
    "\n",
    "## Task 2. Working with text corpora\n",
    "\n",
    "The toy examples with imaginary pets might be entertaining, but what about doing something more useful from a linguistic point of view? Next, let us work on text data from two novels that are included in NLTK, the Natural Language Toolkit Python package.\n",
    "\n",
    "This task is divided into three subtasks **a – c**, each worth 1/3 of a point (0.33 points). Task 2 as a whole is thus worth 1 point maximum.\n",
    "\n",
    "In the first code cell below we import the data to work with:"
   ]
  },
  {
   "cell_type": "code",
   "execution_count": null,
   "metadata": {
    "scrolled": true
   },
   "outputs": [],
   "source": [
    "import sys\n",
    "!{sys.executable} -m pip install nltk\n",
    "\n",
    "import nltk\n",
    "from nltk.corpus import gutenberg\n",
    "from nltk.text import Text\n",
    "nltk.download(\"gutenberg\")\n",
    "\n",
    "moby_dick = Text(gutenberg.words(\"melville-moby_dick.txt\"))\n",
    "sense_and_sensibility = Text(gutenberg.words(\"austen-sense.txt\"))"
   ]
  },
  {
   "cell_type": "markdown",
   "metadata": {},
   "source": [
    "You don't need to worry about this code cell too much. The two texts we import are Herman Melville's *Moby Dick* and Jane Austen's *Sense and Sensibility*. As a result of the importing we have at our disposal two entire novels, represented as lists of word tokens. These lists are contained in the variables '`moby_dick`' and '`sense_and_sensibility`'. In the second code cell below we print out the first few word tokens of the texts to make sure we got the right data. \n",
    "\n",
    "Remember, if you restart the notebook (kernel), you need to import the texts again."
   ]
  },
  {
   "cell_type": "code",
   "execution_count": null,
   "metadata": {},
   "outputs": [],
   "source": [
    "print(\"Sense and Sensibility starts like this:\")\n",
    "print(sense_and_sensibility[0:30])\n",
    "\n",
    "print(\"Moby Dick starts like this:\")\n",
    "print(moby_dick[0:30])"
   ]
  },
  {
   "cell_type": "markdown",
   "metadata": {},
   "source": [
    "As you may have noticed, we have introduced a new data type: the *list*. A list is like a *set*, but unlike the set, the list can contain the same element multiple times, and in the list the order of the elements is preserved. For instance:"
   ]
  },
  {
   "cell_type": "code",
   "execution_count": null,
   "metadata": {},
   "outputs": [],
   "source": [
    "my_set = { \"Nasse\", \"Nasse\", \"Maija\", \"Nasse\", \"Petya\" }\n",
    "         # curly brackets are used with sets\n",
    "\n",
    "my_list = [ \"Nasse\", \"Nasse\", \"Maija\", \"Nasse\", \"Petya\" ]\n",
    "          # square brackets are used with lists\n",
    "\n",
    "print(\"My set is:\", my_set)\n",
    "\n",
    "print(\"My list is:\", my_list)"
   ]
  },
  {
   "cell_type": "markdown",
   "metadata": {},
   "source": [
    "You can extract the `n`th element from a list by putting the number in square brackets after the list variable. However, the numbering starts from zero, so the `n`th element is actually in position `n - 1`:"
   ]
  },
  {
   "cell_type": "code",
   "execution_count": null,
   "metadata": {},
   "outputs": [],
   "source": [
    "print(\"The first element of my_list is:\", my_list[0])\n",
    "print(\"The second element of my_list is:\", my_list[1])\n",
    "print(\"The third element of my_list is:\", my_list[2])"
   ]
  },
  {
   "cell_type": "markdown",
   "metadata": {},
   "source": [
    "You can also extract a sublist (called a *slice*) from a list. Then you put two positions separate by comma: the first number tells Python where to start, and the second number where to end:"
   ]
  },
  {
   "cell_type": "code",
   "execution_count": null,
   "metadata": {},
   "outputs": [],
   "source": [
    "print(\"The three first elements of my_list are:\", my_list[0:3])\n",
    "print(\"The two elements starting at the third position of my_list are:\", my_list[2:4])"
   ]
  },
  {
   "cell_type": "markdown",
   "metadata": {},
   "source": [
    "Note that the end point is _not_ included in the sublist! If we ask for `my_list[0:3]`, we will get a slice containing `[ my_list[0], my_list[1], my_list[2] ]`. The slice does not contain `my_list[3]`.\n",
    "\n",
    "By now, you should understand what `print(sense_and_sensibility[0:30])` does. The whole novel is stored in a list consisting of word _tokens_. We take a slice that starts at position 0 and ends before position 30. That is, we print the 30 first word tokens of _Sense and Sensibility_.\n",
    "\n",
    "Next, it is your turn to extract sentences from the novels.\n",
    "\n",
    "**2 a)**"
   ]
  },
  {
   "cell_type": "code",
   "execution_count": null,
   "metadata": {},
   "outputs": [],
   "source": [
    "# Write code here that prints 5 word tokens from Moby Dick\n",
    "# starting at the 38th word token: \n",
    "\n",
    "# Then write code here that prints 38 word tokens starting\n",
    "# at the 274th word token of Sense and Sensibility:"
   ]
  },
  {
   "cell_type": "markdown",
   "metadata": {},
   "source": [
    "You can retrieve the number of elements in a list using the `len()` function, just as with sets. You can also iterate through a list using the `for` command:"
   ]
  },
  {
   "cell_type": "code",
   "execution_count": null,
   "metadata": {
    "scrolled": false
   },
   "outputs": [],
   "source": [
    "print(\"my_list contains\", len(my_list), \"elements.\")\n",
    "\n",
    "print(\"The elements are, each printed on a line of its own:\")\n",
    "for x in my_list:\n",
    "    print(x)"
   ]
  },
  {
   "cell_type": "markdown",
   "metadata": {},
   "source": [
    "A list can be converted to a set, using the `set()` keyword. This means that all duplicates are dropped from the list and the order of the elements becomes undefined:"
   ]
  },
  {
   "cell_type": "code",
   "execution_count": null,
   "metadata": {
    "scrolled": true
   },
   "outputs": [],
   "source": [
    "my_second_set = set(my_list)\n",
    "print(\"my_second_set contains\", len(my_second_set), \"elements.\")\n",
    "\n",
    "print(\"The elements are, each printed on a line of its own:\")\n",
    "for x in my_second_set:\n",
    "    print(x)"
   ]
  },
  {
   "cell_type": "markdown",
   "metadata": {},
   "source": [
    "When talking about text corpora, the word tokens, or the flow of text, is best represented using a list. However, if we want a collection of all unique words, so-called *word types*, then we are working with a set, in which every word occurs only once.\n",
    "\n",
    "Next, you will need to compute the number of word tokens and word types in both novels:\n",
    "\n",
    "**2 b)**"
   ]
  },
  {
   "cell_type": "code",
   "execution_count": null,
   "metadata": {},
   "outputs": [],
   "source": [
    "# Replace the zeros below with the appropriate Python code for doing the calculations:\n",
    "\n",
    "print(\"The number of word tokens in Moby Dick is\", 0)  \n",
    "  # Hint: the correct answer is 260819\n",
    "print(\"The number of word types in Moby Dick is\", 0)\n",
    "  # Hint: the correct answer is 19317\n",
    "\n",
    "print(\"The number of word tokens in Sense and Sensibility is\", 0)\n",
    "  # Hint: no more hints given!\n",
    "print(\"The number of word types in Sense and Sensibility is\", 0)"
   ]
  },
  {
   "cell_type": "markdown",
   "metadata": {},
   "source": [
    "Sometimes it is useful to know how many times a particular word occurs in a corpus. Now create a _for_ loop that iterates over Sense and Sensibility and counts how many times the word \"really\" occurs in the novel:\n",
    "\n",
    "**2 c)**"
   ]
  },
  {
   "cell_type": "code",
   "execution_count": null,
   "metadata": {},
   "outputs": [],
   "source": [
    "# Count the occurrences of \"really\" in \"Sense and Sensibility\"\n",
    "# using a for loop:"
   ]
  },
  {
   "cell_type": "markdown",
   "metadata": {},
   "source": [
    "That is all for now. Download this page as a *Notebook (.ipynb)* file and submit on Moodle.\n",
    "\n",
    "If you are interested to know more about this topic, an additional source of information is the NLTK book. [Chapter 1](http://www.nltk.org/book/ch01.html) of the book [Natural Language Processing with Python](http://www.nltk.org/book/) covers a lot of additional material as well, so be selective if you decide to read it. Most relevant for this lab are the sections 1.4, 2 and 4.\n"
   ]
  }
 ],
 "metadata": {
  "kernelspec": {
   "display_name": "Python 3 (ipykernel)",
   "language": "python",
   "name": "python3"
  },
  "language_info": {
   "codemirror_mode": {
    "name": "ipython",
    "version": 3
   },
   "file_extension": ".py",
   "mimetype": "text/x-python",
   "name": "python",
   "nbconvert_exporter": "python",
   "pygments_lexer": "ipython3",
   "version": "3.10.6"
  }
 },
 "nbformat": 4,
 "nbformat_minor": 2
}
