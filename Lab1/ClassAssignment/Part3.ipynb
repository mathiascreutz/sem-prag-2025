{
 "cells": [
  {
   "cell_type": "markdown",
   "metadata": {},
   "source": [
    "# Semantics and pragmatics, KIK-LG103\n",
    "## Lab session 1, Part 3\n",
    "\n",
    "In the third part of this lab we will look at sets and relations and logical inferences we can do based on our data. This material is connected to the *predicate logic* part of our lecture in class.\n",
    "\n",
    "First, we will introduce a *set* variable, called `pets`. It is a compound variable that contains a group of strings, in our case the names of pets. Please, remember to execute every block of code (Ctrl-Enter) as you proceed:\n"
   ]
  },
  {
   "cell_type": "code",
   "execution_count": null,
   "metadata": {},
   "outputs": [],
   "source": [
    "pets = { \"Nasse\", \"Petya\", \"Maija\", \"Michelangelo\", \"Kostya\", \"Mansikki\",\n",
    "         \"Anders\", \"Leonardo\", \"Rosa\", \"Monty\", \"Ronja\", \"Lady\", \"Mosya\",\n",
    "         \"Bella\", \"Donatello\", \"Eloveena\" }"
   ]
  },
  {
   "cell_type": "markdown",
   "metadata": {},
   "source": [
    "If we want to know how many pets there are in the set, we can use the `len()` function. Note that all elements in a set are *unique*. If you try to add the same name twice, only one occurrence will stay in the set:"
   ]
  },
  {
   "cell_type": "code",
   "execution_count": null,
   "metadata": {},
   "outputs": [],
   "source": [
    "print(\"There are\", len(pets), \"pets in our set.\")\n",
    "\n",
    "unique_set = { \"Nasse\", \"Nasse\", \"Nasse\", \"Petya\" }\n",
    "\n",
    "print(\"There are\", len(unique_set), \"pets in our second set.\")"
   ]
  },
  {
   "cell_type": "markdown",
   "metadata": {},
   "source": [
    "Next, let's introduce animals:"
   ]
  },
  {
   "cell_type": "code",
   "execution_count": null,
   "metadata": {},
   "outputs": [],
   "source": [
    "animals = { \"dog\", \"cat\", \"cow\", \"duck\", \"snake\", \"turtle\", \"pig\" }\n",
    "\n",
    "print(\"We have\", len(animals), \"animal species in our set.\")"
   ]
  },
  {
   "cell_type": "markdown",
   "metadata": {},
   "source": [
    "Now, what animals are our pets? Let's define a *relation* using another type of variable (called 'dict' in Python): "
   ]
  },
  {
   "cell_type": "code",
   "execution_count": null,
   "metadata": {},
   "outputs": [],
   "source": [
    "species_of_pets = { \"Nasse\": \"pig\", \"Petya\": \"dog\", \"Maija\": \"cat\",\n",
    "                    \"Michelangelo\": \"turtle\", \"Kostya\" : \"cat\", \"Mansikki\": \"cow\",\n",
    "                    \"Anders\": \"duck\", \"Leonardo\": \"turtle\", \"Rosa\" : \"cow\",\n",
    "                    \"Monty\" : \"snake\", \"Ronja\": \"dog\", \"Lady\": \"dog\",\n",
    "                    \"Mosya\": \"cat\", \"Bella\": \"dog\", \"Donatello\": \"turtle\",\n",
    "                    \"Eloveena\": \"cow\" }"
   ]
  },
  {
   "cell_type": "markdown",
   "metadata": {},
   "source": [
    "We now have a *database of world knowledge* (albeit a very small one). So, let's see what we can do with this \"world knowledge\":"
   ]
  },
  {
   "cell_type": "code",
   "execution_count": null,
   "metadata": {},
   "outputs": [],
   "source": [
    "for pet in pets:\n",
    "    print(pet, \"is a\", species_of_pets[pet])"
   ]
  },
  {
   "cell_type": "markdown",
   "metadata": {},
   "source": [
    "There are two new features of Python syntax in the code block above. We'll look at them separately.\n",
    "\n",
    "First, `for x in y:` means \"*for all variables x that are in the set y: do something to each x*\". In our example, we go through all pets in the set `pets` and assign every pet's name, one by one, to the variable `pet`:"
   ]
  },
  {
   "cell_type": "code",
   "execution_count": null,
   "metadata": {},
   "outputs": [],
   "source": [
    "for pet in pets:\n",
    "    print(pet)    # print every pet's name, one by one;\n",
    "                  # the order in which this happens is arbitrary:\n",
    "                  # it is just some order Python likes"
   ]
  },
  {
   "cell_type": "markdown",
   "metadata": {},
   "source": [
    "Next, let's look at the relation. If we want to know what species a specific pet is, we use the name of the pet as a *key* to retrieve the corresponding *value*; for instance:"
   ]
  },
  {
   "cell_type": "code",
   "execution_count": null,
   "metadata": {},
   "outputs": [],
   "source": [
    "print(species_of_pets[\"Nasse\"])\n",
    "\n",
    "name_of_my_pet = \"Mosya\"\n",
    "species_of_my_pet = species_of_pets[name_of_my_pet]\n",
    "print(species_of_my_pet)\n",
    "\n",
    "print(\"Mansikki is a\", species_of_pets[\"Mansikki\"])"
   ]
  },
  {
   "cell_type": "markdown",
   "metadata": {},
   "source": [
    "What about extracting information about just some part of the pets, not all the pets? What if we want to find all turtles?"
   ]
  },
  {
   "cell_type": "code",
   "execution_count": null,
   "metadata": {
    "scrolled": true
   },
   "outputs": [],
   "source": [
    "for pet in pets:\n",
    "    if species_of_pets[pet] == \"turtle\":\n",
    "        print(pet, \"is a turtle!\")"
   ]
  },
  {
   "cell_type": "markdown",
   "metadata": {},
   "source": [
    "Or we want to find all reptiles?"
   ]
  },
  {
   "cell_type": "code",
   "execution_count": null,
   "metadata": {},
   "outputs": [],
   "source": [
    "for pet in pets:\n",
    "    if species_of_pets[pet] == \"turtle\" or species_of_pets[pet] == \"snake\":\n",
    "        print(pet, \"is a reptile...\")"
   ]
  },
  {
   "cell_type": "markdown",
   "metadata": {},
   "source": [
    "Or if we want to know how many dogs there are?"
   ]
  },
  {
   "cell_type": "code",
   "execution_count": null,
   "metadata": {},
   "outputs": [],
   "source": [
    "n_dogs = 0  # To start with, there are no dogs at all\n",
    "\n",
    "for pet in pets:\n",
    "    if species_of_pets[pet] == \"dog\":\n",
    "        n_dogs = n_dogs + 1  # We have seen a dog, so there is one more dog!\n",
    "        \n",
    "# When we have checked all pets, we can print the results:\n",
    "print(\"There are\", n_dogs, \"dogs in our set.\")"
   ]
  },
  {
   "cell_type": "markdown",
   "metadata": {},
   "source": [
    "---\n",
    "**Exercise 3.1** Now, it is your turn to write code that finds out how many dogs and cats there are combined:"
   ]
  },
  {
   "cell_type": "code",
   "execution_count": null,
   "metadata": {},
   "outputs": [],
   "source": [
    "# The total number of dogs and cats combined is calculated here:"
   ]
  },
  {
   "cell_type": "markdown",
   "metadata": {},
   "source": [
    "Isn't it time to extend our database of \"world knowledge\"?"
   ]
  },
  {
   "cell_type": "code",
   "execution_count": null,
   "metadata": {},
   "outputs": [],
   "source": [
    "countries = { \"Finland\", \"Sweden\", \"Russia\", \"Norway\", \"Estonia\" }\n",
    "\n",
    "capitals = { \"Helsinki\", \"Stockholm\", \"Moscow\", \"Oslo\", \"Tallinn\" }\n",
    "\n",
    "capitals_of_countries = { \"Finland\": \"Helsinki\", \"Sweden\": \"Stockholm\",\n",
    "                          \"Russia\": \"Moscow\", \"Norway\": \"Oslo\",\n",
    "                          \"Estonia\": \"Tallinn\" }"
   ]
  },
  {
   "cell_type": "markdown",
   "metadata": {},
   "source": [
    "---\n",
    "**Exercise 3.2** Write code in the box below that prints out for every country what its capital is:"
   ]
  },
  {
   "cell_type": "code",
   "execution_count": null,
   "metadata": {},
   "outputs": [],
   "source": [
    "# For all countries x, print their capitals"
   ]
  },
  {
   "cell_type": "markdown",
   "metadata": {},
   "source": [
    "Wouldn't it be interesting to know where our pets live?"
   ]
  },
  {
   "cell_type": "code",
   "execution_count": null,
   "metadata": {},
   "outputs": [],
   "source": [
    "home_towns_of_pets = { \"Nasse\": \"Stockholm\", \"Petya\": \"Moscow\", \"Maija\": \"Helsinki\",\n",
    "                       \"Michelangelo\": \"Oslo\", \"Kostya\" : \"Moscow\", \"Mansikki\": \"Helsinki\",\n",
    "                       \"Anders\": \"Oslo\", \"Leonardo\": \"Tallinn\", \"Rosa\" : \"Stockholm\",\n",
    "                       \"Monty\" : \"Tallinn\", \"Ronja\": \"Helsinki\", \"Lady\": \"Oslo\",\n",
    "                       \"Mosya\": \"Moscow\", \"Bella\": \"Stockholm\", \"Donatello\": \"Helsinki\",\n",
    "                       \"Eloveena\": \"Helsinki\" }\n",
    "\n",
    "for pet in pets:\n",
    "    print(pet, \"lives in\", home_towns_of_pets[pet])"
   ]
  },
  {
   "cell_type": "markdown",
   "metadata": {},
   "source": [
    "What about finding out what *countries* the pets live in? That information does not exist explicitly as such in our database, so we need to do some *inference*:"
   ]
  },
  {
   "cell_type": "code",
   "execution_count": null,
   "metadata": {},
   "outputs": [],
   "source": [
    "for pet in pets:   # for all pets\n",
    "    home_town = home_towns_of_pets[pet]   # find their home towns\n",
    "    for country in countries:   # for all countries\n",
    "        if capitals_of_countries[country] == home_town:  # find the country whose capital \n",
    "                                                         # is the home town of the pet\n",
    "            print(pet, \"lives in\", country)"
   ]
  },
  {
   "cell_type": "markdown",
   "metadata": {},
   "source": [
    "---\n",
    "**Exercise 3.3** Now, your task is to write code that figures out how many pets live in Moscow:"
   ]
  },
  {
   "cell_type": "code",
   "execution_count": null,
   "metadata": {},
   "outputs": [],
   "source": [
    "# How many pets live in Moscow? The code for solving that goes here:"
   ]
  },
  {
   "cell_type": "markdown",
   "metadata": {},
   "source": [
    "---\n",
    "**Exercise 3.4** Modify your code, such that it figures our how many *cats* live in Moscow. You can write the modified code here:"
   ]
  },
  {
   "cell_type": "code",
   "execution_count": null,
   "metadata": {},
   "outputs": [],
   "source": [
    "# How many cats live in Moscow? The Python code for that goes here:"
   ]
  },
  {
   "cell_type": "markdown",
   "metadata": {},
   "source": [
    "---\n",
    "**Exercise 3.5** Next, write code that prints the names of all *cows* and what *country* each cow lives in:"
   ]
  },
  {
   "cell_type": "code",
   "execution_count": null,
   "metadata": {},
   "outputs": [],
   "source": [
    "# The names of the cows are and they live in ... Here goes the Python code:"
   ]
  },
  {
   "cell_type": "markdown",
   "metadata": {},
   "source": [
    "---\n",
    "**Exercise 3.6** Finally, you need to figure out how many *mammals* live in the Nordic countries (Finland, Sweden, Norway):"
   ]
  },
  {
   "cell_type": "code",
   "execution_count": null,
   "metadata": {},
   "outputs": [],
   "source": [
    "# This code computes the number of pets that are mammals and that live in the Nordic countries:"
   ]
  },
  {
   "cell_type": "markdown",
   "metadata": {},
   "source": [
    "When you are done here, and if you still have time, you can continue with the home assignment."
   ]
  }
 ],
 "metadata": {
  "kernelspec": {
   "display_name": "Python 3",
   "language": "python",
   "name": "python3"
  },
  "language_info": {
   "codemirror_mode": {
    "name": "ipython",
    "version": 3
   },
   "file_extension": ".py",
   "mimetype": "text/x-python",
   "name": "python",
   "nbconvert_exporter": "python",
   "pygments_lexer": "ipython3",
   "version": "3.7.2"
  }
 },
 "nbformat": 4,
 "nbformat_minor": 2
}
