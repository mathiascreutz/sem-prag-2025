{
 "cells": [
  {
   "cell_type": "markdown",
   "metadata": {},
   "source": [
    "# Semantics and pragmatics, KIK-LG103\n",
    "## Lab session 1, Part 2\n",
    "\n",
    "In the second part of this lab we will introduce you to some very basic concepts of the Python programming language. You will need to know these basics in order to proceed with the semantics tasks in Part 3. As you may notice, the syntax of programming languages has some resemblances to that of natural languages. \n",
    "\n",
    "The two following programming concepts will be introduced in this part:\n",
    "\n",
    "* [Variables and assignment](#vars)\n",
    "* [Conditionals and boolean logic](#conbo)\n",
    "\n",
    "Without further ado, let's get into it."
   ]
  },
  {
   "cell_type": "markdown",
   "metadata": {},
   "source": [
    "---\n",
    "### Preparation: Hello Calculator!\n",
    "---\n",
    "\n",
    "A classic introduction to computer programming in any language is the \"Hello World!\" program. Running the program prints the message *Hello World!* on the user's screen. Another entry point found in many Python programming tutorials and books is using the programming environment as a calculator. Saluting the traditions, let's try out the two exercises here.\n",
    "\n",
    "The first code cell below consist of one line of code, the `print` function. Functions will be explained later, so don't worry about the terminology yet, but you can probably already guess what `print` does. Inside the parentheses that follow you see double quotes. Double quotes in Python indicate strings (for now, you can think 'text'). Write your message inside the quotes and press `Ctrl + Enter` to run the code cell."
   ]
  },
  {
   "cell_type": "code",
   "execution_count": null,
   "metadata": {},
   "outputs": [],
   "source": [
    "print(\"\")"
   ]
  },
  {
   "cell_type": "markdown",
   "metadata": {},
   "source": [
    "Next we will do some math. The basic math operators in Python are:\n",
    "\n",
    "    +    Addition\n",
    "    -    Subtraction\n",
    "    *    Multiplication\n",
    "    /    Division\n",
    "    \n",
    "Try out some calculations in the cell below. Write the expression you want to evaluate and press `Ctrl + Enter` to execute."
   ]
  },
  {
   "cell_type": "code",
   "execution_count": null,
   "metadata": {},
   "outputs": [],
   "source": [
    "(8 + 2)/5"
   ]
  },
  {
   "cell_type": "markdown",
   "metadata": {},
   "source": [
    "You should see something like this:\n",
    "\n",
    "    In [1]: 8/2\n",
    "    Out[1]: 4.0\n",
    "    \n",
    "Note: When writing complex expressions, it is often helpful (and/or necessary) to include parentheses. These work exactly as in our regular mathematical notation: \n",
    "\n",
    "    In [2]: (8+2)/5\n",
    "    Out[2]: 2.0\n",
    "\n",
    "You can also include spaces between numbers and operators to make the expression more readable.\n",
    "\n",
    "You probably now feel confident executing code cells in this notebook. In order to do something more substantial than calculating basic math expressions, we now familiarize ourselves with a little bit of basic programming. The concepts introduced are really \"Programming 101\", and mostly independent of the programming language used. If you have never programmed before, Python with its simple and clean syntax is definitely a great way to get started."
   ]
  },
  {
   "cell_type": "markdown",
   "metadata": {},
   "source": [
    "---\n",
    "### Section 1: Variables, assignment and strings <a name=\"vars\"></a>\n",
    "---\n",
    "#### 1.1.Variables and assignment\n",
    "\n",
    "One of the most fundamental ideas in programming is the **variable**. A variable is simply a *piece of data* (for example text) that is linked to an *identifier*. Below we **assign** the value `\"John\"` to the identifier `'firstname'` and then print it. Assignment is done using the '**=**' symbol."
   ]
  },
  {
   "cell_type": "code",
   "execution_count": null,
   "metadata": {},
   "outputs": [],
   "source": [
    "# The '#' symbols in code signal that whatever comes after is a comment.\n",
    "# Comments are meant as clarifying text for humans and are simply\n",
    "# ignored during the executiong of the code.\n",
    "\n",
    "firstname = \"John\"    # These two lines amount to what we did above:\n",
    "print(firstname)      # print(\"John\") would give equivalent output"
   ]
  },
  {
   "cell_type": "markdown",
   "metadata": {},
   "source": [
    "The link between the contents and the identifier is arbitrary, that is, the contents are not necessarily reflected in the form. Does this sound familiar to a linguist? \n",
    "\n",
    "Let's illustrate variables with a familiar example. Think of the pronouns. In one context the pronoun 'it' might refer to a car (\"Did you crash it?\"), in others to a cat (\"It's cute, isn't it?\"). The form 'it' has nothing to do with what a car looks like or how it functions. The same is true of variables. The name of the variable can be almost anything (excluding most special characters and some reserved words like **if** and **and**). Also, we might first assign the variable one value (\"Cathy\") and later change it to another (\"Newman\").\n",
    "\n",
    "---\n",
    "\n",
    "**Exercise 1.1.1** In the code cell below, assign the name of your favorite person to some variable (for example `'favorite_person'`) and print it. This should be two lines of code. Then add two more lines where you change the value of the variable to something else and print the new value. The output of your code should look something like this:\n",
    "    \n",
    "    Cathy\n",
    "    Newman\n",
    "    \n",
    "See the code cell above for how assignment and printing was done."
   ]
  },
  {
   "cell_type": "code",
   "execution_count": null,
   "metadata": {},
   "outputs": [],
   "source": []
  },
  {
   "cell_type": "markdown",
   "metadata": {},
   "source": [
    "When we tried some calculations in the previous section, we always used numbers explicitly: \n",
    "\n",
    "    in [ ]: 2 + 2\n",
    "    out[ ]: 4\n",
    "\n",
    "We can also assign a numeric value to some variable and then use that in place of numbers in calculations:\n",
    "\n",
    "    in [ ]: number = 2\n",
    "            number + 3\n",
    "    out[ ]: 5\n",
    "    \n",
    "---\n",
    "\n",
    "**Exercise 1.1.2** Below you see a short exchange. Your task is to first assign the variable `'your_age'` some value (for example, your age). Then assign the variable `'my_age'` the correct value so that `'my_age'` is 10 years older. Do this second assignment using the variable  `'your_age'` and addition."
   ]
  },
  {
   "cell_type": "code",
   "execution_count": null,
   "metadata": {},
   "outputs": [],
   "source": [
    "print(\"What is your age?\")\n",
    "\n",
    "your_age = 0\n",
    "print(\"Your age is\", your_age)\n",
    "\n",
    "# Assign the right value to the variable \n",
    "# 'my_age' using the variable 'your_age'\n",
    "my_age = 0\n",
    "\n",
    "print(\"I'm ten years older than you so my age is\", my_age)"
   ]
  },
  {
   "cell_type": "markdown",
   "metadata": {},
   "source": [
    "What's the benefit of using the first variable in the assignment of the second variable? Why don't we just hard-code the right values? (For example, `your_age = 10` and `my_age = 20`) You might want to try changing the value of `'your_age'` to figure this out.\n",
    "\n",
    "---\n",
    "\n",
    "**Exercise 1.1.3** Next, we introduce *Abe*, who is twice as old as I am. Make the code works as it should below:"
   ]
  },
  {
   "cell_type": "code",
   "execution_count": null,
   "metadata": {},
   "outputs": [],
   "source": [
    "abes_age = 0  # Fix this!\n",
    "\n",
    "print(\"Abe is\", abes_age, \"years old.\")"
   ]
  },
  {
   "cell_type": "markdown",
   "metadata": {},
   "source": [
    "#### 1.2 Strings and data types <a name=\"string\"></a>\n",
    "\n",
    "In the Preparation section we mentioned that you can consider a string as something akin to a piece of text. More accurately, a string is a *sequence of characters*. It is one of the basic *data types*, and for obvious reasons, one that we as students of LT are very interested in. Another basic data type would be **`int`**, representing integer numbers. You already worked with ints above when you tried calculating things. We will introduce more data types along the way; for now, let's make sure the difference between strings and ints is clear.\n",
    "\n",
    "As you saw above, strings are surrounded by double quotation marks (in fact single quotes work too):\n",
    "\n",
    "    Option 1: city = \"Berlin\"\n",
    "    Option 2: city = 'Berlin'\n",
    "    \n",
    "ints, however, are written as plain numbers, without quotation marks, or anything else for that matter. \n",
    "\n",
    "    year = 2049\n",
    "    \n",
    "---\n",
    "\n",
    "**Exercise 1.2.1** Run the cell below and inspect the output. What went wrong? Correct the code and you might figure out the meaning of life (and see why it's important to keep in mind the distinction between strings and ints). The goal is to make the calculation on the second line work.\n",
    "\n",
    "Note: **str** means the string type."
   ]
  },
  {
   "cell_type": "code",
   "execution_count": null,
   "metadata": {},
   "outputs": [],
   "source": [
    "number = \"1984\"\n",
    "(300 + 404 + number)/64"
   ]
  },
  {
   "cell_type": "markdown",
   "metadata": {},
   "source": [
    "Clearly the original addition didn't work out all too well. Though you can't add together a string and an int, confusingly enough, the \"addition\" (+) does actually work for two or more strings. \n",
    "\n",
    "---\n",
    "\n",
    "**Exercise 1.2.2** Try adding together some strings in the cell below and figure out what the operator does in this case."
   ]
  },
  {
   "cell_type": "code",
   "execution_count": null,
   "metadata": {},
   "outputs": [],
   "source": [
    "\"a\" + \"b\" + \"c\""
   ]
  },
  {
   "cell_type": "markdown",
   "metadata": {},
   "source": [
    "In the case of the `+` operator with strings we talk about **concatenation** and not addition.\n",
    "\n",
    "Let us take another look at the difference between addition and concatenation.\n",
    "\n",
    "---\n",
    "\n",
    "**Exercise 1.2.3** Which ones of the following assignments are correct and which ones are incorrect? Why?"
   ]
  },
  {
   "cell_type": "code",
   "execution_count": null,
   "metadata": {},
   "outputs": [],
   "source": [
    "finland_100_years_version1 = 1917 + 100\n",
    "print(\"Finland turned 100 years in\", finland_100_years_version1)\n",
    "\n",
    "finland_100_years_version2 = \"1917\" + \"100\"\n",
    "print(\"Or Finland turned 100 years in\", finland_100_years_version2)\n",
    "\n",
    "phone_number_version1 = 123 + 4567 + 890\n",
    "print(\"My phone number is\", phone_number_version1)\n",
    "\n",
    "phone_number_version2 = \"123\" + \"4567\" + \"890\"\n",
    "print(\"Or my phone number is\", phone_number_version2)"
   ]
  },
  {
   "cell_type": "markdown",
   "metadata": {},
   "source": [
    "---\n",
    "\n",
    "### Section 2. Conditionals and boolean algebra <a name=\"conbo\"></a>\n",
    "\n",
    "---\n",
    "\n",
    "In programming, as in life, actions are often executed conditionally: \n",
    "\n",
    "    If the person looks at me and s/he's not my ex, say hello - otherwise ignore.\n",
    "    \n",
    "    If the password is correct, log in.\n",
    "    \n",
    "\"Conditional execution of actions\" sounds cumbersome and boring, though. Fortunately computer scientists have come up with a much cooler name for this concept: **Flow control**\n",
    "\n",
    "Below you see a few lines of code illustrating basic flow control. Try to figure out what each part of the code does before reading on. You can also try changing the value of `'person_is_ex'` to `False`, or `person_name` to something else and see what happens. If you find this hard, don't worry; we'll deconstruct the code in the text below."
   ]
  },
  {
   "cell_type": "code",
   "execution_count": null,
   "metadata": {
    "scrolled": true
   },
   "outputs": [],
   "source": [
    "person_name = \"Uvuvwevwe\"\n",
    "person_is_ex = True\n",
    "\n",
    "if person_name == \"Uvuvwevwe\" and person_is_ex:\n",
    "    print(\"Ignoring.\")\n",
    "else:\n",
    "    print(\"Hi \" + person_name + \"!\")"
   ]
  },
  {
   "cell_type": "markdown",
   "metadata": {},
   "source": [
    "So what's unfamiliar here? There seems to be something fishy about the assignment of the variable `'person_is_ex'`. Below that, there are a few lines of code that remotely resemble English with a few words highlighted (if, is, and, else). Also, what's with the whitespace in front of the print statements? Let's attack each of these points individually.\n",
    "\n",
    "#### 2.1. Boolean values\n",
    "\n",
    "As you might have guessed, the `'person_is_ex'` variable isn't a string, though it might at first glance look like one. Here we introduce a new data type: **boolean**. The boolean data type is a comfortingly simple one; it has two values, *True* and *False*. Notice the uppercase T and F. These two boolean values are the atomic elements of flow control. What separates the boolean values *True* and *False* from the strings *\"True\"* and *\"False\"* are the quotation marks around the strings.\n",
    "\n",
    "The comparison operators that return boolean values are:\n",
    "    \n",
    "    a == b        a is equal to b\n",
    "    a != b        a is not equal to b\n",
    "    a < b         a is less than to b\n",
    "    a > b         a is greater than to b\n",
    "    a <= b        a is less than or equal to to b\n",
    "    a >= b        a is greater than or equal to b\n",
    "    \n",
    "---\n",
    "\n",
    "**Exercise 2.1.1** Try evaluating some comparisons in the code cell below."
   ]
  },
  {
   "cell_type": "code",
   "execution_count": null,
   "metadata": {},
   "outputs": [],
   "source": [
    "print(\"John is not Maggie, right?\")\n",
    "print(\"John\" != \"Maggie\") # Notice that we do not always have to assign\n",
    "                          # the value we want to print to a variable and then\n",
    "                          # pass the variable to the print function. We can \n",
    "                          # instead evaluate the value inside the print function.\n",
    "\n",
    "print(\"Is 3 less than or equal to 2?\")\n",
    "print(3 <= 2)             # Again we evaluate the value inside the print function."
   ]
  },
  {
   "cell_type": "markdown",
   "metadata": {},
   "source": [
    "Notice the difference between the assignment operator '=' and the comparison (equality) operator '=='. They are not the same thing:"
   ]
  },
  {
   "cell_type": "code",
   "execution_count": null,
   "metadata": {
    "scrolled": true
   },
   "outputs": [],
   "source": [
    "length_of_maggie_is_six = len(\"Maggie\") == 6\n",
    "#                       ^               ^\n",
    "#                  assignment        equality\n",
    "\n",
    "# Above we first calculate the length in characters of the string \"Maggie\".\n",
    "# Then we compare that value to 6.\n",
    "# Then we store the result of the comparison in the variable called length_of_maggie_is_six.\n",
    "\n",
    "# Let's check what the comparison produced:\n",
    "if length_of_maggie_is_six == True:\n",
    "    print(\"Yes, it is true!\")\n",
    "else:\n",
    "    print(\"I'm afraid it is not true..\")"
   ]
  },
  {
   "cell_type": "markdown",
   "metadata": {},
   "source": [
    "#### 2.2 Boolean algebra \n",
    "\n",
    "Performing operations on the boolean values True and False is called **boolean algebra**. We have already encountered the basic operations of boolean algebra during the lecture in the form of first-order predicate logic. The basic operations are **and**, **or**, and **not**.\n",
    "\n",
    "---\n",
    "\n",
    "**Exercise 2.2.1** Evaluate your own expressions in the code cell below. You can use parentheses for clarity, and sometimes they are necessary for correct evaluation."
   ]
  },
  {
   "cell_type": "code",
   "execution_count": null,
   "metadata": {},
   "outputs": [],
   "source": [
    "(\"John\" == \"Maggie\") or (not (3 <= 2) and (\"a\" != \"b\"))"
   ]
  },
  {
   "cell_type": "markdown",
   "metadata": {},
   "source": [
    "#### 2.3 Conditionals\n",
    "\n",
    "Next we'll look at the following construction:\n",
    "    \n",
    "    if something is True:\n",
    "        do this\n",
    "    else:\n",
    "        do that\n",
    "        \n",
    "Written in this \"pseudo-Python\", the construction is probably clear to you. Imagine yourself being in control of the execution of the code. You get to the line starting with `if` and evaluate whatever expression comes after it. If the expression is `True`, you continue to the code between the `if` and the `else` lines, otherwise you skip that part and continue after `else`.\n",
    "\n",
    "The whitespace (four spaces) is used to mark what block of code belongs under the `if` branch and which belongs under the `else` branch of the construction. This is called **block indentation**.\n",
    "\n",
    "\n",
    "Sometimes we need more flexibility in our actions instead of just a binary choice: *if this - do this, if that - do that, if that third thing - do something funny, otherwise - do whatever you want*. In Python this can be accomplished with **elif** (from else-if): \n",
    "\n",
    "    if this is True:\n",
    "        do this\n",
    "    elif that is True:\n",
    "        do that\n",
    "    elif one more thing is True:\n",
    "        do yet another thing\n",
    "    else:\n",
    "        do whatever\n",
    "        \n",
    "The program goes through the `if`s and `elif`s one by one until it finds a true case. If no true case is found, the program executes whatever code is in the `else` block.\n",
    "\n",
    "---\n",
    "**Exercise 2.3.1** Write an if-statement with at least four branches (see last example above) that prints out reactions to different foods. For example, if the variable food is \"cucumber\", you could print out \"Yummy!\"."
   ]
  },
  {
   "cell_type": "code",
   "execution_count": null,
   "metadata": {},
   "outputs": [],
   "source": [
    "food = \"eggplant\"\n",
    "\n",
    "if food == \"eggplant\":\n",
    "    print(\"Meh.\")\n",
    "# ...and so on"
   ]
  },
  {
   "cell_type": "markdown",
   "metadata": {},
   "source": [
    "Now you are ready to continue to Part 3 of the class assignment!"
   ]
  }
 ],
 "metadata": {
  "kernelspec": {
   "display_name": "Python 3",
   "language": "python",
   "name": "python3"
  },
  "language_info": {
   "codemirror_mode": {
    "name": "ipython",
    "version": 3
   },
   "file_extension": ".py",
   "mimetype": "text/x-python",
   "name": "python",
   "nbconvert_exporter": "python",
   "pygments_lexer": "ipython3",
   "version": "3.7.2"
  }
 },
 "nbformat": 4,
 "nbformat_minor": 2
}
