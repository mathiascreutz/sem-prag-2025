{
 "cells": [
  {
   "cell_type": "markdown",
   "metadata": {},
   "source": [
    "# Semantics and pragmatics, KIK-LG103\n",
    "## Lab session 1, Part 1\n",
    "\n",
    "### Welcome to the first lab session of the course Semantics and Pragmatics\n",
    "\n",
    "This page is a Jupyter notebook. It contains instructions together with *cells*, in which Python 3 program code is written, like this: "
   ]
  },
  {
   "cell_type": "code",
   "execution_count": null,
   "metadata": {},
   "outputs": [],
   "source": [
    "print(\"Hello, everyone!\")"
   ]
  },
  {
   "cell_type": "markdown",
   "metadata": {},
   "source": [
    "You can run the program code by navigating to the cell and pressing Ctrl-Enter inside it. When you do this, Python will execute all the commands in the cell and show the output (if any) below the cell. If you execute the cell above, Python should print \"Hello, everyone!\" for you.\n",
    "\n",
    "If you have already taken the Morphology and Syntax course (KIK-LG102), you should be familiar with how Jupyter notebooks work. In that case you can jump to Part 2 directly."
   ]
  },
  {
   "cell_type": "markdown",
   "metadata": {},
   "source": [
    "### 1. How not to lose your work\n",
    "\n",
    "When you are working on the CSC notebooks it is important for you to remember that your notebook application is \"alive\" for only a certain time (4 hours maximum). It is possible for you to take a break and continue working later, but if you want to keep your work, you need to make sure your notebook is stored, either **on your own computer** or **in the right place in the notebook environment**. \n",
    "\n",
    "#### 1.1 How to download a notebook on your own computer\n",
    "\n",
    "If you work on a notebook and the environment \"dies\", you will lose all changes that you have made. One way to make sure you don't lose your changes is to download a copy on your own computer. Later, when you start a new session, you can upload the notebook you have stored and continue working on it.\n",
    "\n",
    "You download your notebook (that is, this page that you are now seeing) by selecting *File -> Download*. You can select a file name and a destination folder on your own computer, where this file will be stored. The file extension must be .ipynb (Notebook file).\n",
    "\n",
    "When you come back later, you start a new session at CSC notebooks. First navigate to the correct folder (for instance, sem-prag-2025/Lab1/ClassAssignment/). Then click the *Upload* button in the top right corner, and choose your .ipynb file from your disk.\n",
    "\n",
    "If you work on different computers from session to session, you need to make sure that you can access your stored file. For instance, you can email the .ipynb file as an attachment to yourself or save the file on a memory stick that you take with you.\n",
    "\n",
    "**Your FIRST TASK** now is to download your notebook, store it on disk, and then upload it back. To do it properly, if you have time, you *could* log out after you have downloaded the notebook, and destroy your course environment (in the applications view you can see a button with an X on it that says \"Delete session\" when you hover over it with your mouse). Then you *could* start a new session and upload your notebook there. You then keep working on your uploaded notebook.\n",
    "\n",
    "#### 1.1.1. How to submit your work on Moodle\n",
    "\n",
    "When you are done with your home assignment, you need to upload your work on the course Moodle site. You first need to download your notebook as before: *File -> Download*. Store this file on the disk of your local computer. Then go to Moodle and upload the file.\n",
    "\n",
    "**Your SECOND TASK** is to practise submitting a Jupyter notebook on Moodle. There is an assignment on the course Moodle site that is called *Harjoituspalautus: tee harjoitustunnin aikana!*. Use that assignment to upload your notebook file. The teacher(s) will check that everything is okay. Do this right away. Don't wait until the end of the lab session.\n",
    "\n",
    "If you have already done this on the Morphology and Syntax course, you do not need to do it again.\n",
    "\n",
    "#### 1.2 How to store your work in the notebook environment\n",
    "\n",
    "In this CSC notebook environment, every student has a personal folder called `my-work`. If you go back to the folder view, you can navigate to that folder. It is empty initially, but whatever you store there is supposed to remain there for the entire duration of the course. You can copy the files that you want to keep into that folder. Rather than copying many files manually, you can use some help. In the `sem-prag-2025` folder there is a notebook called `copy_labs_to_my-work.ipynb`, which will do the work for you. You can open that notebook and read the instructions. \n",
    "\n",
    "A good habit could be to start every lab session by copying over any new lab contents to your own `my-work` folder and then do all your work in `my-work`. Any changes you do will then remain there from one session to another. You can also work in `sem-prag-2025`, but then all of your changes will be overwritten each time you start a new session.\n",
    "\n",
    "When you are ready to continue, start on Part 2 of the lab assignment."
   ]
  }
 ],
 "metadata": {
  "kernelspec": {
   "display_name": "Python 3 (ipykernel)",
   "language": "python",
   "name": "python3"
  },
  "language_info": {
   "codemirror_mode": {
    "name": "ipython",
    "version": 3
   },
   "file_extension": ".py",
   "mimetype": "text/x-python",
   "name": "python",
   "nbconvert_exporter": "python",
   "pygments_lexer": "ipython3",
   "version": "3.10.4"
  }
 },
 "nbformat": 4,
 "nbformat_minor": 2
}
