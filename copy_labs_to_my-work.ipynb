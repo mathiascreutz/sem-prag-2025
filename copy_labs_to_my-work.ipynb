{
 "cells": [
  {
   "cell_type": "markdown",
   "id": "0304fba7",
   "metadata": {},
   "source": [
    "## Copying over the notebooks to the my-work directory\n",
    "\n",
    "By running the code in the cell below you will copy over content from the `sem-prag-2025` directory tree to the `my-work` directory tree.\n",
    "\n",
    "Any files that you have in `my-work` is your personal copy, which contains the changes that you have made to the notebooks. If you quit the notebook environment, the files in `my-work` should still be there the next time you log in. Also your own changes and additions are supposed to be retained.\n",
    "\n",
    "By contrast, the files under `sem-prag-2025` are updated each time when you log in. This is the general course content as provided by the teacher. You may work on the notebooks in `sem-prag-2025`, but remember that your changes will be gone the next time you log in – unless you have downloaded a private copy or you have copied over the files to `my-work`.\n",
    "\n",
    "Press Ctrl-Enter in the cell below to copy over the content:"
   ]
  },
  {
   "cell_type": "code",
   "execution_count": null,
   "id": "75fc94d4",
   "metadata": {},
   "outputs": [],
   "source": [
    "!source src/copy_to_my-work.sh"
   ]
  },
  {
   "cell_type": "markdown",
   "id": "6ac21345",
   "metadata": {},
   "source": [
    "### Is it safe to copy over files again or will my changes be overwritten?\n",
    "\n",
    "The teacher will create new labs during the course. Not all labs will be available in the beginning. This means that you will probably need to copy over the files from `sem-prag-2025` to `my-work` for every lab session separately. What then happens to previous lab exercises that you have done? Will they be replaced by the standard content from `sem-prag-2025`? Will you lose your previous work in `my-work`?\n",
    "\n",
    "The answer is \"no\". The system will only copy labs that you have not yet copied over. So, if Lab1 already exists in your `my-work` directory, Lab1 will never be touched again by the copying command. Only labs that did not yet exist when you did the copying the previous time will be copied over."
   ]
  }
 ],
 "metadata": {
  "kernelspec": {
   "display_name": "Python 3 (ipykernel)",
   "language": "python",
   "name": "python3"
  },
  "language_info": {
   "codemirror_mode": {
    "name": "ipython",
    "version": 3
   },
   "file_extension": ".py",
   "mimetype": "text/x-python",
   "name": "python",
   "nbconvert_exporter": "python",
   "pygments_lexer": "ipython3",
   "version": "3.10.6"
  }
 },
 "nbformat": 4,
 "nbformat_minor": 5
}
